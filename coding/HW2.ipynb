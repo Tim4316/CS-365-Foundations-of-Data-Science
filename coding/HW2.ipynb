{
 "cells": [
  {
   "cell_type": "markdown",
   "metadata": {},
   "source": [
    "## Simulation: Drop needles\n",
    "\n",
    "Suppose we have a floor made of parallel strips of wood, each the same width $t$, and we drop a needle with length $l=t$ onto the floor. What is the probability that the needle will lie across a line between two strips?\n",
    "\n",
    "Below is an example of two needles dropped. Needle a falls across a line, while needle b does not.\n",
    "\n",
    "![Example](needle.png)"
   ]
  },
  {
   "cell_type": "markdown",
   "metadata": {},
   "source": [
    "In this coding homework, we will simulate such experiments and connect them with the estimation of $\\pi$."
   ]
  },
  {
   "cell_type": "code",
   "execution_count": 88,
   "metadata": {},
   "outputs": [],
   "source": [
    "import numpy as np\n",
    "import random\n",
    "import math\n",
    "import matplotlib.pyplot as plt"
   ]
  },
  {
   "cell_type": "markdown",
   "metadata": {},
   "source": [
    "The first thing to write is a function *drop_needle*. It simulates dropping a needle onto the floor we described and returns whether the needle lies across a line between two strips. \n",
    "\n",
    "Now the question is how to describe the position of a needle using random variables. The figure below visualizes a needle sampled, with $t=l=1$ (see figure above). Remember that the needle should have an equal probability of landing in any position. In fact, we can uniformly sample the position of the needle's mass center and then uniformly sample the angle formed by the needle and the x-axis. Specifically, we only focus on the mass center's position with respect to (w.r.t.) the x-axis since we can assume the strip is long enough.\n",
    "\n",
    "Besides, we do not need to sample the x-value of the center from $-\\inf$ to $\\inf$. Instead, we can uniformly sample it from $0$ to $2t$. Why is this the case?"
   ]
  },
  {
   "cell_type": "code",
   "execution_count": null,
   "metadata": {},
   "outputs": [],
   "source": [
    "#Since the needle have an equal probability of landing in any position and the width of the strips are constant, \n",
    "#the probability of the needle's mass center being in any position will be the same as any positions. \n",
    "#This means that it doesn't matter whether the needle's mass center falls to the right or left. \n",
    "#If its outside 0 to 2t, it will just reappear on the other side."
   ]
  },
  {
   "cell_type": "markdown",
   "metadata": {},
   "source": [
    "[10pts]"
   ]
  },
  {
   "cell_type": "code",
   "execution_count": 71,
   "metadata": {},
   "outputs": [],
   "source": [
    "\n",
    "def drop_needle(strip_length, needle_length):\n",
    "    \"\"\"\n",
    "    Simulate dropping a needle on to the floor made of parallel strips of woods.\n",
    "    Return whether the needle lie across a line between two strips.\n",
    "\n",
    "    return: An Integer that equals to 1 if the needle lie across a line, and 0 otherwise.\n",
    "    \"\"\" \n",
    "    i = random.uniform(0, 2*strip_length)\n",
    "    theta = random.uniform(0, math.pi / 2)\n",
    "    x = i + (needle_length / 2) * math.cos(theta)\n",
    "    if x > strip_length:\n",
    "        return 1\n",
    "    else:\n",
    "        return 0  \n",
    "    # write your code here"
   ]
  },
  {
   "cell_type": "markdown",
   "metadata": {},
   "source": [
    "Next, write a function run_simulation that calls drop_needle repetitively for n times. The function should return the probability that a dropped needle lies across a line based on the n trials. [5pts]"
   ]
  },
  {
   "cell_type": "code",
   "execution_count": 72,
   "metadata": {},
   "outputs": [],
   "source": [
    "def run_simulation(n, strip_length, needle_length):\n",
    "    \"\"\"\n",
    "    Repeat drop_needle experiment for n times. Return the probability that the needle will lie across a line. \n",
    "\n",
    "    :return: float, the probability that the needle will lie across a line according to the n experiments.\n",
    "    \"\"\" \n",
    "    num = 0\n",
    "    for t in range(n):\n",
    "        num += drop_needle(strip_length, needle_length)\n",
    "    return num / n\n",
    "    # Write your code here"
   ]
  },
  {
   "cell_type": "markdown",
   "metadata": {},
   "source": [
    "### Run the simulation\n",
    "\n",
    "Run the *run_simulation* function 500 times with parameters n=1000, strip_length=1, and needle_length=1. Each time the function is going to return a probability of the needle lying across the line. Plot a histogram of those 500 probabilities. [5pts]"
   ]
  },
  {
   "cell_type": "code",
   "execution_count": 79,
   "metadata": {
    "scrolled": false
   },
   "outputs": [
    {
     "data": {
      "image/png": "[encoded data removed]",
      "text/plain": [
       "<Figure size 640x480 with 1 Axes>"
      ]
     },
     "metadata": {},
     "output_type": "display_data"
    }
   ],
   "source": [
    "def run_simulation(n, strip_length, needle_length):\n",
    "    num = 0\n",
    "    for t in range(n):\n",
    "        num += drop_needle(strip_length, needle_length)\n",
    "    return num / n\n",
    "\n",
    "results = [run_simulation(1000, 1, 1) for t in range(500)]\n",
    "plt.hist(results, edgecolor='dimgrey')\n",
    "plt.title(\"Running 500 simulations\")\n",
    "plt.xlabel(\"probability\")\n",
    "plt.ylabel(\"num\")\n",
    "plt.show()\n",
    "    # Write your code here"
   ]
  },
  {
   "cell_type": "markdown",
   "metadata": {},
   "source": [
    "## Estimate $\\pi$ based on the returned probability\n",
    "\n",
    "This experiment can be used to estimate the value of $\\pi$. In the case where the needle length $l$ equals to the width $t$ of the strips, the probability of a needle lies across a line is $p=\\frac{2}{\\pi}$. Try to prove why this holds. [15pts]\n"
   ]
  },
  {
   "cell_type": "markdown",
   "metadata": {},
   "source": [
    "Your proof: The question states that the needle length l equals to the width t of the strip. To find the probability that the needle lies across a line is (area when needle lies across a line / area of the total sample space).\n",
    "\n",
    "To get the area when the needle lies across a line, we have to find when the distance from the center of the needle is greater than or equal to the x. Which means x <= (l/2)*cosθ. Therefore, using the integral, the area of the needle lying across a line is ∫ 0 to 𝜋/2 cosθdθ = l/2.\n",
    "\n",
    "To get the total sample space, if we let x the distance from the center of the needle, 0 is when the needle is directly on the line of the stirp and l/2 is when the needle is directly on the center line of the strip. So the range of x will be 0 <= x <= l/2. And the θ is inbetween 0 <= θ <= 𝜋/2 since the θ is the angle formed by the x-axis and the neelde. Therefore, the total sample space which is the area of x*θ is equal to (l/2)*(𝜋/2) = l𝜋/4.\n",
    "\n",
    "Therefore, the probability that the needle lies across a line = (1/2)/(l𝜋/4) = 2/𝜋, which the proof is solved."
   ]
  },
  {
   "cell_type": "markdown",
   "metadata": {},
   "source": [
    "\n",
    "Assume you know $p=\\frac{2}{\\pi}$, and you can call the function *run_simulation*. Let $X_i$ be the indicator random variable of dropping the $i$-th needle, i.e., $X_i=1$ if the $i$-th needle lies across a line, and $X_i=0$ otherwise. Let $S_n=\\sum_{i=1}^n X_i$. How many needles do you need to drop, i.e., what value of $n$ should you take, to get the 95\\% confidence interval of $S_n$? Use Chebyshev's inequality and let $\\epsilon=0.1$. [15pts]"
   ]
  },
  {
   "cell_type": "markdown",
   "metadata": {},
   "source": [
    "Your answer: $Pr(|\\frac{S_n}{n} - \\mu| \\geq \\epsilon) \\leq \\frac{Var(S_n/n)}{\\epsilon^2} \\leq \\alpha \\\\$\n",
    "$= Pr(|S_n - n\\mu| \\geq n\\epsilon) \\leq \\frac{Var(S_n)}{n^2\\epsilon^2}) \\leq \\alpha\\\\\\\\$\n",
    "$= Pr(|S_n - \\frac{2}{\\pi}| \\geq n\\epsilon) \\leq \\frac{n\\sigma^2}{n^2\\epsilon^2} \\leq \\alpha\\\\\\\\$\n",
    "$= Pr(|S_n - \\frac{2}{\\pi}| \\geq n\\epsilon) \\leq \\frac{\\sigma^2}{n\\epsilon^2} \\leq \\alpha\\\\\\\\$\n",
    "So we get $\\frac{(\\frac{2}{\\pi})(1-\\frac{2}{\\pi})}{n\\epsilon^2} \\leq \\alpha = \\frac{(\\frac{2}{\\pi})(1-\\frac{2}{\\pi})}{\\alpha\\epsilon^2} \\leq n\\\\\\\\$\n",
    "Plugging in $\\epsilon = 0.1$ and $\\alpha = 0.05,$ we get $\\frac{(\\frac{2}{\\pi})(1-\\frac{2}{\\pi})}{(0.05)(0.1)^2} \\leq n$\n",
    "\n"
   ]
  },
  {
   "cell_type": "markdown",
   "metadata": {},
   "source": [
    "What does the CLT say about $S_n$? Run the *run_simulation* function with parameters n=5000, strip_length=1, and needle_length=1, and report a 95\\% confidence interval of $S_n$ based on CLT (see lecture slides page 4 from Feb 2). [10pts] "
   ]
  },
  {
   "cell_type": "code",
   "execution_count": 97,
   "metadata": {},
   "outputs": [
    {
     "name": "stdout",
     "output_type": "stream",
     "text": [
      "sample_mean: 0.6682\n",
      "sample_std: 0.00671530252483088\n",
      "Sample's confidence interval: (0.6550380070513315, 0.6813619929486685)\n",
      "Using the data from the sample, we are 95% confident that the mean of the number of time is in between 0.6550380070513315 and 0.6813619929486685\n"
     ]
    }
   ],
   "source": [
    "n = 5000\n",
    "z = 1.96\n",
    "sample_m = (run_simulation(5000,1,1))\n",
    "sample_std = math.sqrt((sample_mean) * (1 - sample_mean)) / math.sqrt(n)\n",
    "con_int = (sample_m - z*sample_std, sample_m + z*sample_std)\n",
    "print (\"sample_mean: \" + str(sample_m))\n",
    "print (\"sample_std: \"+ str (sample_std))\n",
    "print (\"Sample's confidence interval: \" + str(con_int))\n",
    "print (\"Using the data from the sample, we are 95% confident that the mean is in between \" + str(sample_m - z*sample_std) + \" and \" + str (sample_m + z*sample_std))\n",
    "# Write your code here."
   ]
  },
  {
   "cell_type": "code",
   "execution_count": null,
   "metadata": {},
   "outputs": [],
   "source": []
  }
 ],
 "metadata": {
  "kernelspec": {
   "display_name": "Python 3 (ipykernel)",
   "language": "python",
   "name": "python3"
  },
  "language_info": {
   "codemirror_mode": {
    "name": "ipython",
    "version": 3
   },
   "file_extension": ".py",
   "mimetype": "text/x-python",
   "name": "python",
   "nbconvert_exporter": "python",
   "pygments_lexer": "ipython3",
   "version": "3.9.13"
  }
 },
 "nbformat": 4,
 "nbformat_minor": 4
}
