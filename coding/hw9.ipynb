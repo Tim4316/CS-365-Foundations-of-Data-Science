{
 "cells": [
  {
   "cell_type": "markdown",
   "metadata": {},
   "source": [
    "# Gradient decent\n",
    "\n",
    "## Exact Gradient Computation\n",
    "\n",
    "Given a function f, sometimes we can compute its exact gradient at any x if f's derivative is easy to compute. For example, let $f(x)=2x^2-3x+\\ln x$, where $x>0$. Please compute the derivative of f and report its gradient at $x=2$."
   ]
  },
  {
   "cell_type": "markdown",
   "metadata": {},
   "source": [
    "Your answer: 5.5"
   ]
  },
  {
   "cell_type": "markdown",
   "metadata": {},
   "source": [
    "## Numerical Gradient Computation [5 pts]\n",
    "\n",
    "Instead of computing the derivative of a function, we can also estimate the gradient numerically with various methods. These methods are essential, especially when a callable function is not exposed due to privacy reasons, or it is hard to differentiate analytically. \n",
    "\n",
    "To numerically compute the gradient, the simple way is to follow Newton's difference quotient: $f'(x)=\\lim_{h\\to 0}{f(x+h)-f(x)\\over h}$. Another two-point formula is to compute the slope through the points $(x-h,f(x-h))$ and $(x+h,f(x+h))$. Let us reuse the example function $f(x)=2x^2-3x+\\ln x$ and test the precision of these two approaches. Define the function in the next cell, and try to compute its gradient via both methods at $x=2$. Range h value in [0.1,0.01,0.001,0.0001] and report all gradients calculated. Which method is more accurate, and why does it work better?"
   ]
  },
  {
   "cell_type": "code",
   "execution_count": 144,
   "metadata": {},
   "outputs": [],
   "source": [
    "import math\n",
    "\n",
    "def f(x):\n",
    "    # Your code here\n",
    "    return 2*x**2 - 3*x + math.log(x)\n",
    "\n",
    "x = 2\n",
    "hs = [0.1, 0.01, 0.001, 0.0001]"
   ]
  },
  {
   "cell_type": "code",
   "execution_count": 145,
   "metadata": {},
   "outputs": [
    {
     "name": "stdout",
     "output_type": "stream",
     "text": [
      "Gradient using Newton's difference quotient with h=0.1: 5.68790\n",
      "Gradient using Newton's difference quotient with h=0.01: 5.51875\n",
      "Gradient using Newton's difference quotient with h=0.001: 5.50188\n",
      "Gradient using Newton's difference quotient with h=0.0001: 5.50019\n"
     ]
    }
   ],
   "source": [
    "# Compute gradient using the first method (Newton's difference quotient)\n",
    "for h in hs:\n",
    "    gradient1 = (f(x + h) - f(x)) / h\n",
    "    print(\"Gradient using Newton's difference quotient with h={}: {:.5f}\".format(h, gradient1))\n",
    "\n",
    "# Compute gradient using the second method"
   ]
  },
  {
   "cell_type": "code",
   "execution_count": 146,
   "metadata": {},
   "outputs": [
    {
     "name": "stdout",
     "output_type": "stream",
     "text": [
      "Gradient using two-point formula with h=0.1: 5.50042\n",
      "Gradient using two-point formula with h=0.01: 5.50000\n",
      "Gradient using two-point formula with h=0.001: 5.50000\n",
      "Gradient using two-point formula with h=0.0001: 5.50000\n"
     ]
    }
   ],
   "source": [
    "# Compute gradient using the second method \n",
    "for h in hs:\n",
    "    gradient2 = (f(x + h) - f(x - h)) / (2 * h)\n",
    "    print(\"Gradient using two-point formula with h={}: {:.5f}\".format(h, gradient2))"
   ]
  },
  {
   "cell_type": "markdown",
   "metadata": {},
   "source": [
    "#### Remark: You may find the gradient more accurate when using a smaller h value. However, this is not always the case. Due to the finite precision of the floating-point, rounding errors always exist and can dominate the computation when the h value is too small. Run the following two cells to observe such scenarios."
   ]
  },
  {
   "cell_type": "code",
   "execution_count": 147,
   "metadata": {},
   "outputs": [
    {
     "name": "stdout",
     "output_type": "stream",
     "text": [
      "5.551115123125783\n"
     ]
    }
   ],
   "source": [
    "eps = 1e-15\n",
    "print((f(2+eps)-f(2-eps))/2/eps)"
   ]
  },
  {
   "cell_type": "code",
   "execution_count": 148,
   "metadata": {},
   "outputs": [
    {
     "name": "stdout",
     "output_type": "stream",
     "text": [
      "0.0\n"
     ]
    }
   ],
   "source": [
    "eps = 1e-20\n",
    "print((f(2+eps)-f(2-eps))/2/eps)"
   ]
  },
  {
   "cell_type": "code",
   "execution_count": null,
   "metadata": {},
   "outputs": [],
   "source": []
  },
  {
   "cell_type": "markdown",
   "metadata": {},
   "source": [
    "## Logistic regression\n",
    "\n",
    "Logistic regression is a classification tool that models the probability of an event taking place by having the log odds for the event be a linear combination of one or more independent variables. Specifically, let $\\vec{x}=<x_1,\\dots ,x_m>$ be an m dimensional vector of independent variables (features), and $y$ be the corresponding binary dependent variable (label). The probability of having $y=1$ is modeled as $$P_y={1\\over 1+e^{-(b_0+b_1\\cdot x_1+\\dots +b_m\\cdot x_m)}}={1\\over 1+e^{-(b_0+\\vec{b}_{1:m}\\cdot\\vec{x})}}$$\n",
    "\n",
    "Given a set of data points $<\\vec{x}_k,y_k>$ with $k\\in [1,n]$, how can we fit the model with these data, i.e., how to choose the best $\\vec{b}=b_0,b_1\\cdots,b_m$?\n",
    "\n",
    "One way is to write out the likelihood $$\\prod_{k:y_k=1}P_{y_k}\\prod_{k:y_k=0}(1-P_{y_k})$$ and find $b_0,b_1\\cdots,b_m$ that maximize its logarithm, $$l=\\sum_{k:y_k=1}\\ln(P_{y_k})+\\sum_{k:y_k=0}\\ln(1-P_{y_k})$$\n",
    "\n",
    "In contrast to computing the closed form gradient of a Least-squares loss in a linear model (chapter 5 of MML book), doing the same for logistic regression is not possible. Gradient descent can be used to optimize such function $l$, and we will implement it step-by-step. First, write a function log_likelihood in the next cell that computes the log-likelihood given data points and $\\vec{b}$. [5 pts]"
   ]
  },
  {
   "cell_type": "code",
   "execution_count": 149,
   "metadata": {},
   "outputs": [],
   "source": [
    "import numpy as np\n",
    "import sklearn"
   ]
  },
  {
   "cell_type": "code",
   "execution_count": 168,
   "metadata": {},
   "outputs": [],
   "source": [
    "def log_likelihood(X,y,b):\n",
    "    \"\"\"\n",
    "    X: n*m numpy data array.\n",
    "    y: one dimension numpy data array of length n\n",
    "    b: one dimension numpy data array of length m+1\n",
    "    \n",
    "    Return the log likelihood.\n",
    "    \"\"\"\n",
    "    n = X.shape[0]\n",
    "    X_b = np.insert(X, 0, 1, axis=1)\n",
    "    z = np.dot(X_b, b)\n",
    "    log_likelihood = np.sum(y*z - np.log(1 + np.exp(z)))\n",
    "    return log_likelihood"
   ]
  },
  {
   "cell_type": "markdown",
   "metadata": {},
   "source": [
    "### Test your log_likelihood function with a small example below."
   ]
  },
  {
   "cell_type": "code",
   "execution_count": 169,
   "metadata": {},
   "outputs": [
    {
     "data": {
      "text/plain": [
       "-2.0317353317719005"
      ]
     },
     "execution_count": 169,
     "metadata": {},
     "output_type": "execute_result"
    }
   ],
   "source": [
    "X=np.array([[0.1],[0.5],[1.]])\n",
    "y=np.array([0,0,1])\n",
    "b=np.array([0.,1.])\n",
    "# Your answer should be around -2.03\n",
    "log_likelihood(X,y,b)"
   ]
  },
  {
   "cell_type": "code",
   "execution_count": null,
   "metadata": {},
   "outputs": [],
   "source": []
  },
  {
   "cell_type": "markdown",
   "metadata": {},
   "source": [
    "Now that we have a function to maximize, the next step is to compute the current gradient for parameter $\\vec{b}$. Use the method with Newton's difference quotient, and set $h=0.0001$. Implement the function compute_gradient in the next cell that returns the gradients of $\\vec{b}$. [7 pts]"
   ]
  },
  {
   "cell_type": "code",
   "execution_count": 170,
   "metadata": {},
   "outputs": [],
   "source": [
    "def compute_gradient(X,y,b):\n",
    "# The inputs are the same as the ones of log_likelihood\n",
    "    n, m = X.shape\n",
    "    X_b = np.insert(X, 0, 1, axis=1)\n",
    "    z = np.dot(X_b, b)\n",
    "    p = 1 / (1 + np.exp(-z))\n",
    "    h = 0.0001\n",
    "    \n",
    "    # Compute the gradient using Newton's difference quotient\n",
    "    gradient = np.zeros((m+1,))\n",
    "    for i in range(m+1):\n",
    "        delta_b = np.zeros((m+1,))\n",
    "        delta_b[i] = h\n",
    "        b_plus = b + delta_b\n",
    "        b_minus = b - delta_b\n",
    "        gradient[i] = (log_likelihood(X, y, b_plus) - log_likelihood(X, y, b_minus)) / (2*h)\n",
    "    \n",
    "    return gradient"
   ]
  },
  {
   "cell_type": "code",
   "execution_count": 171,
   "metadata": {},
   "outputs": [
    {
     "data": {
      "text/plain": [
       "array([-0.8784971 , -0.09478616])"
      ]
     },
     "execution_count": 171,
     "metadata": {},
     "output_type": "execute_result"
    }
   ],
   "source": [
    "# Test your function here, preserve the output\n",
    "compute_gradient(X,y,b)"
   ]
  },
  {
   "cell_type": "markdown",
   "metadata": {},
   "source": [
    "Once we know how to compute the gradients, we can optimize the objective, which is log-likelihood in our case, using gradient descent. It iteratively changes the parameters in a small \"step\" towards the gradient direction, i.e., the direction where the objective increases at the fastest pace. Formally, denote the calculated gradients as $\\Delta (\\vec{b})$, we can update our parameters via $\\vec{b}=\\vec{b}+\\gamma \\cdot \\Delta (\\vec{b})$, where $\\gamma$ is the size of the \"step\". Repeat this process until the objective stop improving or a pre-set max number of iterations is reached. **Note in practice, the value of gradient changes over iterations and can be very large/small, so you should normalize the gradient vector every iteration, i.e., scale it to $\\Delta (\\vec{b})\\over ||\\Delta (\\vec{b})||_2$, before using it to compute the new $\\vec{b}$. Therefore, the update rule for parameters becomes $\\vec{b}=\\vec{b}+\\gamma \\cdot {\\Delta (\\vec{b})\\over ||\\Delta (\\vec{b})||_2}$**.\n",
    "\n",
    "Implement the gradient_descent function below. [7 pts]"
   ]
  },
  {
   "cell_type": "code",
   "execution_count": 174,
   "metadata": {
    "scrolled": true
   },
   "outputs": [],
   "source": [
    "import numpy as np\n",
    "\n",
    "def gradient_descent(X, y, initial_b, step_size, max_iteration):\n",
    "    \"\"\"\n",
    "    X: n*m numpy data array.\n",
    "    y: one dimension numpy data array of length n\n",
    "    initial_b: one dimension numpy data array of length m+1\n",
    "    step_size: scalar, the size of one step update\n",
    "    max_iteration: scalar, the max number of iterations\n",
    "    Return the updated coefficient vector b.\n",
    "    \"\"\"\n",
    "    b = np.copy(initial_b)\n",
    "    \n",
    "    # Iterate for a maximum of max_iteration times\n",
    "    for i in range(max_iteration):\n",
    "        # Calculate the gradient of the log likelihood function\n",
    "        X_b = np.insert(X, 0, 1, axis=1)\n",
    "        z = np.dot(X_b, b)\n",
    "        p = 1 / (1 + np.exp(-z))\n",
    "        gradient = np.dot(X_b.T, y - p)\n",
    "        \n",
    "        # Normalize the gradient vector\n",
    "        norm_gradient = np.linalg.norm(gradient)\n",
    "        if norm_gradient != 0:\n",
    "            normalized_gradient = gradient / norm_gradient\n",
    "        else:\n",
    "            normalized_gradient = gradient\n",
    "        \n",
    "        # Update the parameter vector\n",
    "        b += step_size * normalized_gradient\n",
    "        \n",
    "    return b"
   ]
  },
  {
   "cell_type": "markdown",
   "metadata": {},
   "source": [
    "Test the function with the previous example again. Print for each sample from X, based on your model, the probability of having label=1."
   ]
  },
  {
   "cell_type": "code",
   "execution_count": 175,
   "metadata": {},
   "outputs": [
    {
     "name": "stdout",
     "output_type": "stream",
     "text": [
      "Sample 0: 2.1829364876087817e-23\n",
      "Sample 1: 2.072396465550037e-09\n",
      "Sample 2: 0.9999999983716885\n"
     ]
    }
   ],
   "source": [
    "optimized_b = gradient_descent(X, y, b, 0.1, 1000)\n",
    "\n",
    "# compute and print the probability for each row in X below using optimized_b\n",
    "\n",
    "X_b = np.insert(X, 0, 1, axis=1)\n",
    "z = np.dot(X_b, optimized_b)\n",
    "p = 1 / (1 + np.exp(-z))\n",
    "\n",
    "# Print the probabilities\n",
    "for i in range(len(X)):\n",
    "    print(f\"Sample {i}: {p[i]}\")"
   ]
  },
  {
   "cell_type": "markdown",
   "metadata": {},
   "source": [
    "Next, we apply the implemented logistic regression model to a real dataset. The dataset is a trimmed breast-cancer-Wisconsin dataset from UCI machine learning Repository. Only 100 data points are offered in the training set to make sure the computation can be finished swiftly, no matter how you implement the optimizer. The training dataset is loaded in the next cell, and the vector $\\vec{b}$ is also randomly initialized. \n",
    "\n",
    "Fit three models with the training set using different step size ranging in [0.01,0.05,0.1] and set the max number of iterations as 10000. How do the final log-likelihood value and the number of iterations change with different step sizes? [7 pts]"
   ]
  },
  {
   "cell_type": "code",
   "execution_count": 184,
   "metadata": {},
   "outputs": [],
   "source": [
    "f = open(\"breast-cancer-wisconsin.data\",\"r\")\n",
    "X_train = []\n",
    "y_train = []\n",
    "for line in f:\n",
    "    tmp = []\n",
    "    for part in line.strip().split(\",\")[1:-1]:\n",
    "        tmp.append(float(part))\n",
    "    y_train.append((0 if line.strip().split(\",\")[-1]==\"2\" else 1))\n",
    "    X_train.append(tmp)\n",
    "X_train = np.array(X_train)\n",
    "y_train = np.array(y_train)\n",
    "random_b = np.random.uniform(0,1,size=(10))"
   ]
  },
  {
   "cell_type": "code",
   "execution_count": 186,
   "metadata": {},
   "outputs": [
    {
     "name": "stdout",
     "output_type": "stream",
     "text": [
      "Step size: 0.01\n",
      "Final log-likelihood: -7.184454007465381\n",
      "Number of iterations: 10000\n",
      "Final coefficient vector b: [-17.22481314   1.1086023   -1.84215934   1.18241234   1.08287278\n",
      "   0.60787653  -0.07158884   1.04569994   1.28056153   1.75845375]\n",
      "\n",
      "Step size: 0.05\n",
      "Final log-likelihood: -7.271870765016004\n",
      "Number of iterations: 10000\n",
      "Final coefficient vector b: [-17.51146899   1.14207817  -1.87202347   1.22138382   1.10061113\n",
      "   0.63603338  -0.06535613   1.07491333   1.31292164   1.79771631]\n",
      "\n",
      "Step size: 0.1\n",
      "Final log-likelihood: -7.626185192679759\n",
      "Number of iterations: 10000\n",
      "Final coefficient vector b: [-17.98610595   1.18575796  -1.91381785   1.2693273    1.1267102\n",
      "   0.67422772  -0.06034418   1.11129388   1.35568356   1.85493121]\n",
      "\n"
     ]
    }
   ],
   "source": [
    "# Fit three models with different step size, report the final log-likelihood, \n",
    "# number of iterations and the final coefficent vector b.\n",
    "step_sizes = [0.01, 0.05, 0.1]\n",
    "\n",
    "# Loop through step sizes and fit models\n",
    "for step_size in step_sizes:\n",
    "    # Fit model\n",
    "    b = gradient_descent(X_train[:100], y_train[:100], random_b, step_size, 10000)\n",
    "    \n",
    "    # Compute final log-likelihood and number of iterations\n",
    "    log_likelihood_val = log_likelihood(X_train[:100], y_train[:100], b)\n",
    "    num_iterations = 10000\n",
    "    \n",
    "    # Report results\n",
    "    print(f\"Step size: {step_size}\")\n",
    "    print(f\"Final log-likelihood: {log_likelihood_val}\")\n",
    "    print(f\"Number of iterations: {num_iterations}\")\n",
    "    print(f\"Final coefficient vector b: {b}\")\n",
    "    print()"
   ]
  },
  {
   "cell_type": "markdown",
   "metadata": {},
   "source": [
    "Finally, load the test dataset, and predict for each sample in the test set what labels it should have using the model obtained. Compare your results with the ground truth labels, and report the accuracy rate. [4 pts]"
   ]
  },
  {
   "cell_type": "code",
   "execution_count": 191,
   "metadata": {},
   "outputs": [],
   "source": [
    "def predict(X, b):\n",
    "    X_b = np.insert(X, 0, 1, axis=1)\n",
    "    z = np.dot(X_b, b)\n",
    "    p = 1 / (1 + np.exp(-z))\n",
    "    y_pred = np.round(p)\n",
    "    return y_pred\n",
    "\n",
    "f = open(\"test_data.txt\",\"r\")\n",
    "X_test = []\n",
    "y_test = []\n",
    "for line in f:\n",
    "    tmp = []\n",
    "    for part in line.strip().split(\",\")[1:-1]:\n",
    "        tmp.append(float(part))\n",
    "    y_test.append((0 if line.strip().split(\",\")[-1]==\"2\" else 1))\n",
    "    X_test.append(tmp)"
   ]
  },
  {
   "cell_type": "code",
   "execution_count": 192,
   "metadata": {},
   "outputs": [
    {
     "name": "stdout",
     "output_type": "stream",
     "text": [
      "Step size: 0.01\n",
      "Accuracy: 0.9\n",
      "Step size: 0.05\n",
      "Accuracy: 0.9\n",
      "Step size: 0.1\n",
      "Accuracy: 0.9\n"
     ]
    }
   ],
   "source": [
    "# Predict based on your models and report the accuracy\n",
    "for step_size in [0.01, 0.05, 0.1]:\n",
    "    b = gradient_descent(X_train, y_train, random_b, step_size, 10000)\n",
    "    y_pred = predict(X_test, b)\n",
    "    accuracy = np.mean(y_pred == y_test)\n",
    "    print(\"Step size:\", step_size)\n",
    "    print(\"Accuracy:\", accuracy)"
   ]
  },
  {
   "cell_type": "code",
   "execution_count": null,
   "metadata": {},
   "outputs": [],
   "source": []
  },
  {
   "cell_type": "code",
   "execution_count": null,
   "metadata": {},
   "outputs": [],
   "source": []
  }
 ],
 "metadata": {
  "kernelspec": {
   "display_name": "Python 3 (ipykernel)",
   "language": "python",
   "name": "python3"
  },
  "language_info": {
   "codemirror_mode": {
    "name": "ipython",
    "version": 3
   },
   "file_extension": ".py",
   "mimetype": "text/x-python",
   "name": "python",
   "nbconvert_exporter": "python",
   "pygments_lexer": "ipython3",
   "version": "3.9.13"
  }
 },
 "nbformat": 4,
 "nbformat_minor": 4
}
